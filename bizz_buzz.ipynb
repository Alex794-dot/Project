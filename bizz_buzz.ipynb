{
 "cells": [
  {
   "cell_type": "code",
   "execution_count": 3,
   "metadata": {},
   "outputs": [],
   "source": [
    "# this is an example of how to make a function. \n",
    "\n",
    "# this function will be called my_function and it will take a single argument (or input)\n",
    "\n",
    "# my_function will take a number as an argument, add 5, divide the result by two, and store the result as answer\n",
    "\n",
    "# then, the answer is returned by the function\n",
    "\n",
    "def my_function(number):\n",
    "    \n",
    "    answer = (number + 5) / 2\n",
    "    \n",
    "    return answer\n",
    "    \n",
    "#lets test our function on the number 7\n",
    "\n",
    "my_function(7)"
   ]
  },
  {
   "cell_type": "code",
   "execution_count": 18,
   "metadata": {},
   "outputs": [
    {
     "data": {
      "text/plain": [
       "[0,\n",
       " 1,\n",
       " 2,\n",
       " 3,\n",
       " 4,\n",
       " 'bizz',\n",
       " 6,\n",
       " 'buzz',\n",
       " 8,\n",
       " 9,\n",
       " 'bizz',\n",
       " 11,\n",
       " 12,\n",
       " 13,\n",
       " 'buzz',\n",
       " 'bizz',\n",
       " 16,\n",
       " 17,\n",
       " 18,\n",
       " 19,\n",
       " 'bizz',\n",
       " 'buzz',\n",
       " 22,\n",
       " 23,\n",
       " 24,\n",
       " 'bizz',\n",
       " 26,\n",
       " 27,\n",
       " 'buzz',\n",
       " 29,\n",
       " 'bizz',\n",
       " 31,\n",
       " 32,\n",
       " 33,\n",
       " 34,\n",
       " 'bizzbuzz']"
      ]
     },
     "execution_count": 18,
     "metadata": {},
     "output_type": "execute_result"
    }
   ],
   "source": [
    "\n",
    "# your assignment is to write a function called bizz_buzz\n",
    "\n",
    "# bizz_buzz should take a single argument, number\n",
    "\n",
    "# the function you write should return a list of numbers from 0 up to the chosen number , [0, 1, 2, 3, ... , number]\n",
    "\n",
    "# we start by initiating an empty list so we can add numbers to it \n",
    "\n",
    "my_list = []\n",
    "\n",
    "# now we can define our function, and make a loop to fill in my_list\n",
    " \n",
    "def bizz_buzz(number):\n",
    "    \n",
    "    for i in range(number+1):\n",
    "        if i == 0:\n",
    "            my_list.append(0)\n",
    "        \n",
    "        elif i % 5 ==0 and i % 7 == 0:\n",
    "            my_list.append(\"bizzbuzz\")\n",
    "        \n",
    "        elif i == 0:\n",
    "            my_list.append(0)\n",
    "        \n",
    "        elif i % 5==0:\n",
    "            my_list.append(\"bizz\")\n",
    "        \n",
    "        elif i % 7==0:\n",
    "            my_list.append(\"buzz\")\n",
    "       \n",
    "        else:\n",
    "            my_list.append(i)\n",
    "            \n",
    "        \n",
    "        \n",
    "    return my_list\n",
    "\n",
    "bizz_buzz(35)\n"
   ]
  },
  {
   "cell_type": "code",
   "execution_count": null,
   "metadata": {},
   "outputs": [],
   "source": []
  },
  {
   "cell_type": "code",
   "execution_count": null,
   "metadata": {},
   "outputs": [],
   "source": [
    "# Now, update your function, so that everytime it needs to append a multiple of 5 to the list, instead it writes 'bizz'\n",
    "\n",
    "\n",
    "\n",
    "# DO the same thing, but this time, if its a multiple of 7, print 'buzz' instead of the number\n",
    "    \n"
   ]
  },
  {
   "cell_type": "code",
   "execution_count": null,
   "metadata": {},
   "outputs": [],
   "source": []
  },
  {
   "cell_type": "code",
   "execution_count": null,
   "metadata": {},
   "outputs": [],
   "source": []
  },
  {
   "cell_type": "code",
   "execution_count": null,
   "metadata": {},
   "outputs": [],
   "source": []
  },
  {
   "cell_type": "code",
   "execution_count": null,
   "metadata": {},
   "outputs": [],
   "source": []
  },
  {
   "cell_type": "code",
   "execution_count": null,
   "metadata": {},
   "outputs": [],
   "source": []
  },
  {
   "cell_type": "code",
   "execution_count": null,
   "metadata": {},
   "outputs": [],
   "source": []
  },
  {
   "cell_type": "code",
   "execution_count": null,
   "metadata": {},
   "outputs": [],
   "source": []
  },
  {
   "cell_type": "code",
   "execution_count": null,
   "metadata": {},
   "outputs": [],
   "source": []
  },
  {
   "cell_type": "code",
   "execution_count": null,
   "metadata": {},
   "outputs": [],
   "source": []
  },
  {
   "cell_type": "code",
   "execution_count": null,
   "metadata": {},
   "outputs": [],
   "source": []
  }
 ],
 "metadata": {
  "kernelspec": {
   "display_name": "Python 3",
   "language": "python",
   "name": "python3"
  },
  "language_info": {
   "codemirror_mode": {
    "name": "ipython",
    "version": 3
   },
   "file_extension": ".py",
   "mimetype": "text/x-python",
   "name": "python",
   "nbconvert_exporter": "python",
   "pygments_lexer": "ipython3",
   "version": "3.7.3"
  }
 },
 "nbformat": 4,
 "nbformat_minor": 2
}
